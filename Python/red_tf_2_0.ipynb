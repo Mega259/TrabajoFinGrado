{
 "cells": [
  {
   "cell_type": "code",
   "execution_count": 1,
   "metadata": {},
   "outputs": [],
   "source": [
    "import pandas as pd\n",
    "import numpy as np\n",
    "import tensorflow as tf\n",
    "import matplotlib.pyplot as plt\n",
    "import random\n",
    "%matplotlib inline"
   ]
  },
  {
   "cell_type": "code",
   "execution_count": 2,
   "metadata": {},
   "outputs": [
    {
     "name": "stdout",
     "output_type": "stream",
     "text": [
      "2.0.0-alpha0\n"
     ]
    }
   ],
   "source": [
    "print(tf.__version__)"
   ]
  },
  {
   "cell_type": "code",
   "execution_count": 3,
   "metadata": {},
   "outputs": [],
   "source": [
    "data = pd.read_csv('completo+respuesta+headers.csv', header=0, index_col=False)"
   ]
  },
  {
   "cell_type": "code",
   "execution_count": 4,
   "metadata": {},
   "outputs": [
    {
     "data": {
      "text/html": [
       "<div>\n",
       "<style scoped>\n",
       "    .dataframe tbody tr th:only-of-type {\n",
       "        vertical-align: middle;\n",
       "    }\n",
       "\n",
       "    .dataframe tbody tr th {\n",
       "        vertical-align: top;\n",
       "    }\n",
       "\n",
       "    .dataframe thead th {\n",
       "        text-align: right;\n",
       "    }\n",
       "</style>\n",
       "<table border=\"1\" class=\"dataframe\">\n",
       "  <thead>\n",
       "    <tr style=\"text-align: right;\">\n",
       "      <th></th>\n",
       "      <th>X-axis</th>\n",
       "      <th>Y-axis</th>\n",
       "      <th>Z-axis</th>\n",
       "      <th>Label</th>\n",
       "    </tr>\n",
       "  </thead>\n",
       "  <tbody>\n",
       "    <tr>\n",
       "      <th>count</th>\n",
       "      <td>19337.000000</td>\n",
       "      <td>19337.000000</td>\n",
       "      <td>19337.000000</td>\n",
       "      <td>19337.000000</td>\n",
       "    </tr>\n",
       "    <tr>\n",
       "      <th>mean</th>\n",
       "      <td>-3.036879</td>\n",
       "      <td>-3.869599</td>\n",
       "      <td>4.779501</td>\n",
       "      <td>1.413456</td>\n",
       "    </tr>\n",
       "    <tr>\n",
       "      <th>std</th>\n",
       "      <td>7.213168</td>\n",
       "      <td>8.843972</td>\n",
       "      <td>6.318493</td>\n",
       "      <td>1.108777</td>\n",
       "    </tr>\n",
       "    <tr>\n",
       "      <th>min</th>\n",
       "      <td>-78.437500</td>\n",
       "      <td>-78.437500</td>\n",
       "      <td>-57.375000</td>\n",
       "      <td>0.000000</td>\n",
       "    </tr>\n",
       "    <tr>\n",
       "      <th>25%</th>\n",
       "      <td>-7.925781</td>\n",
       "      <td>-4.355469</td>\n",
       "      <td>0.378174</td>\n",
       "      <td>0.000000</td>\n",
       "    </tr>\n",
       "    <tr>\n",
       "      <th>50%</th>\n",
       "      <td>-0.445312</td>\n",
       "      <td>-1.120117</td>\n",
       "      <td>3.107422</td>\n",
       "      <td>1.000000</td>\n",
       "    </tr>\n",
       "    <tr>\n",
       "      <th>75%</th>\n",
       "      <td>-0.067017</td>\n",
       "      <td>-0.351807</td>\n",
       "      <td>10.351562</td>\n",
       "      <td>2.000000</td>\n",
       "    </tr>\n",
       "    <tr>\n",
       "      <th>max</th>\n",
       "      <td>72.937500</td>\n",
       "      <td>78.437500</td>\n",
       "      <td>78.437500</td>\n",
       "      <td>3.000000</td>\n",
       "    </tr>\n",
       "  </tbody>\n",
       "</table>\n",
       "</div>"
      ],
      "text/plain": [
       "             X-axis        Y-axis        Z-axis         Label\n",
       "count  19337.000000  19337.000000  19337.000000  19337.000000\n",
       "mean      -3.036879     -3.869599      4.779501      1.413456\n",
       "std        7.213168      8.843972      6.318493      1.108777\n",
       "min      -78.437500    -78.437500    -57.375000      0.000000\n",
       "25%       -7.925781     -4.355469      0.378174      0.000000\n",
       "50%       -0.445312     -1.120117      3.107422      1.000000\n",
       "75%       -0.067017     -0.351807     10.351562      2.000000\n",
       "max       72.937500     78.437500     78.437500      3.000000"
      ]
     },
     "execution_count": 4,
     "metadata": {},
     "output_type": "execute_result"
    }
   ],
   "source": [
    "data.describe()"
   ]
  },
  {
   "cell_type": "code",
   "execution_count": 5,
   "metadata": {},
   "outputs": [],
   "source": [
    "x_st=data['X-axis'] #(data['X-axis']-data['X-axis'].mean())/data['X-axis'].std()\n",
    "y_st=data['Y-axis'] #(data['Y-axis']-data['Y-axis'].mean())/data['Y-axis'].std()\n",
    "z_st=data['Z-axis'] #(data['Z-axis']-data['Z-axis'].mean())/data['Z-axis'].std()"
   ]
  },
  {
   "cell_type": "code",
   "execution_count": 6,
   "metadata": {},
   "outputs": [],
   "source": [
    "columns=['X-axis', 'Y-axis', 'Z-axis', 'Label']\n",
    "data_st = pd.concat([x_st, y_st, z_st, data['Label']], axis=1, keys=columns)\n",
    "data_x= pd.concat([x_st, y_st, z_st], axis=1, keys=['X-axis', 'Y-axis', 'Z-axis'])"
   ]
  },
  {
   "cell_type": "code",
   "execution_count": 7,
   "metadata": {},
   "outputs": [
    {
     "data": {
      "text/html": [
       "<div>\n",
       "<style scoped>\n",
       "    .dataframe tbody tr th:only-of-type {\n",
       "        vertical-align: middle;\n",
       "    }\n",
       "\n",
       "    .dataframe tbody tr th {\n",
       "        vertical-align: top;\n",
       "    }\n",
       "\n",
       "    .dataframe thead th {\n",
       "        text-align: right;\n",
       "    }\n",
       "</style>\n",
       "<table border=\"1\" class=\"dataframe\">\n",
       "  <thead>\n",
       "    <tr style=\"text-align: right;\">\n",
       "      <th></th>\n",
       "      <th>X-axis</th>\n",
       "      <th>Y-axis</th>\n",
       "      <th>Z-axis</th>\n",
       "      <th>Label</th>\n",
       "    </tr>\n",
       "  </thead>\n",
       "  <tbody>\n",
       "    <tr>\n",
       "      <th>count</th>\n",
       "      <td>19337.000000</td>\n",
       "      <td>19337.000000</td>\n",
       "      <td>19337.000000</td>\n",
       "      <td>19337.000000</td>\n",
       "    </tr>\n",
       "    <tr>\n",
       "      <th>mean</th>\n",
       "      <td>-3.036879</td>\n",
       "      <td>-3.869599</td>\n",
       "      <td>4.779501</td>\n",
       "      <td>1.413456</td>\n",
       "    </tr>\n",
       "    <tr>\n",
       "      <th>std</th>\n",
       "      <td>7.213168</td>\n",
       "      <td>8.843972</td>\n",
       "      <td>6.318493</td>\n",
       "      <td>1.108777</td>\n",
       "    </tr>\n",
       "    <tr>\n",
       "      <th>min</th>\n",
       "      <td>-78.437500</td>\n",
       "      <td>-78.437500</td>\n",
       "      <td>-57.375000</td>\n",
       "      <td>0.000000</td>\n",
       "    </tr>\n",
       "    <tr>\n",
       "      <th>25%</th>\n",
       "      <td>-7.925781</td>\n",
       "      <td>-4.355469</td>\n",
       "      <td>0.378174</td>\n",
       "      <td>0.000000</td>\n",
       "    </tr>\n",
       "    <tr>\n",
       "      <th>50%</th>\n",
       "      <td>-0.445312</td>\n",
       "      <td>-1.120117</td>\n",
       "      <td>3.107422</td>\n",
       "      <td>1.000000</td>\n",
       "    </tr>\n",
       "    <tr>\n",
       "      <th>75%</th>\n",
       "      <td>-0.067017</td>\n",
       "      <td>-0.351807</td>\n",
       "      <td>10.351562</td>\n",
       "      <td>2.000000</td>\n",
       "    </tr>\n",
       "    <tr>\n",
       "      <th>max</th>\n",
       "      <td>72.937500</td>\n",
       "      <td>78.437500</td>\n",
       "      <td>78.437500</td>\n",
       "      <td>3.000000</td>\n",
       "    </tr>\n",
       "  </tbody>\n",
       "</table>\n",
       "</div>"
      ],
      "text/plain": [
       "             X-axis        Y-axis        Z-axis         Label\n",
       "count  19337.000000  19337.000000  19337.000000  19337.000000\n",
       "mean      -3.036879     -3.869599      4.779501      1.413456\n",
       "std        7.213168      8.843972      6.318493      1.108777\n",
       "min      -78.437500    -78.437500    -57.375000      0.000000\n",
       "25%       -7.925781     -4.355469      0.378174      0.000000\n",
       "50%       -0.445312     -1.120117      3.107422      1.000000\n",
       "75%       -0.067017     -0.351807     10.351562      2.000000\n",
       "max       72.937500     78.437500     78.437500      3.000000"
      ]
     },
     "execution_count": 7,
     "metadata": {},
     "output_type": "execute_result"
    }
   ],
   "source": [
    "\n",
    "data_st.describe()"
   ]
  },
  {
   "cell_type": "code",
   "execution_count": 8,
   "metadata": {},
   "outputs": [],
   "source": [
    "#Definition of the NN\n",
    "model = tf.keras.models.Sequential()\n",
    "model.add(tf.keras.layers.Dense(30, input_shape=(3,)))\n",
    "model.add(tf.keras.layers.Dense(100, activation=tf.nn.sigmoid))\n",
    "model.add(tf.keras.layers.Dense(100, activation=tf.nn.sigmoid))\n",
    "model.add(tf.keras.layers.Dense(100, activation=tf.nn.sigmoid))\n",
    "model.add(tf.keras.layers.Dense(4, activation=tf.nn.softmax))\n",
    "\n",
    "#inputs = tf.keras.Input(shape=(3,))\n",
    "#x = tf.keras.layers.Dense(100, activation=tf.nn.relu)(inputs)\n",
    "#y = tf.keras.layers.Dense(1000, activation=tf.nn.sigmoid)(x)\n",
    "#outputs = tf.keras.layers.Dense(4, activation=tf.nn.softmax)(y)\n",
    "#model = tf.keras.Model(inputs=inputs, outputs=outputs)"
   ]
  },
  {
   "cell_type": "code",
   "execution_count": 9,
   "metadata": {},
   "outputs": [],
   "source": [
    "model.compile(optimizer=tf.keras.optimizers.Adam(), loss=tf.keras.losses.CategoricalCrossentropy(), metrics=['accuracy'])"
   ]
  },
  {
   "cell_type": "code",
   "execution_count": 10,
   "metadata": {},
   "outputs": [],
   "source": [
    "x_x = data_x['X-axis'].to_numpy()\n",
    "x_y = data_x['Y-axis'].to_numpy()\n",
    "x_z = data_x['Z-axis'].to_numpy()\n",
    "x_data = data_x.to_numpy()\n",
    "y_data = data_st['Label'].to_numpy()"
   ]
  },
  {
   "cell_type": "code",
   "execution_count": 11,
   "metadata": {
    "scrolled": true
   },
   "outputs": [
    {
     "data": {
      "text/plain": [
       "(array([[-0.07421875, -0.3972168 , 10.3203125 ],\n",
       "        [-0.07897949, -0.40454102, 10.359375  ],\n",
       "        [-0.07659912, -0.40698242, 10.34375   ],\n",
       "        ...,\n",
       "        [-0.5336914 ,  8.109375  ,  2.9609375 ],\n",
       "        [-1.2128906 ,  8.3359375 ,  1.8291016 ],\n",
       "        [-0.9404297 ,  9.4453125 ,  4.0976562 ]]),\n",
       " array([0, 0, 0, ..., 3, 3, 3], dtype=int64))"
      ]
     },
     "execution_count": 11,
     "metadata": {},
     "output_type": "execute_result"
    }
   ],
   "source": [
    "(x_data, y_data)"
   ]
  },
  {
   "cell_type": "code",
   "execution_count": 12,
   "metadata": {},
   "outputs": [],
   "source": [
    "from sklearn.model_selection import train_test_split\n",
    "from sklearn.metrics import classification_report, confusion_matrix\n"
   ]
  },
  {
   "cell_type": "code",
   "execution_count": 13,
   "metadata": {},
   "outputs": [],
   "source": [
    "x_train, x_test, y_train, y_test = [], [],[], []"
   ]
  },
  {
   "cell_type": "code",
   "execution_count": 14,
   "metadata": {},
   "outputs": [],
   "source": [
    "x_train, x_test, y_train, y_test = train_test_split(x_data, y_data, test_size=0.15, shuffle=True)"
   ]
  },
  {
   "cell_type": "code",
   "execution_count": 15,
   "metadata": {},
   "outputs": [],
   "source": [
    "y_train=tf.keras.utils.to_categorical(y_train)\n",
    "y_test=tf.keras.utils.to_categorical(y_test)"
   ]
  },
  {
   "cell_type": "code",
   "execution_count": 16,
   "metadata": {},
   "outputs": [
    {
     "data": {
      "text/plain": [
       "(array([[-10.109375  ,  -1.125     ,   3.09375   ],\n",
       "        [ -0.05264282,  -0.3852539 ,  10.359375  ],\n",
       "        [-12.234375  ,  -5.4492188 ,   1.5820312 ],\n",
       "        ...,\n",
       "        [ -7.8203125 ,  -2.046875  ,   1.3808594 ],\n",
       "        [ -0.07897949,  -0.36376953,  10.359375  ],\n",
       "        [ -6.9375    ,  -2.2597656 ,  -0.7011719 ]]), array([[0., 1., 0., 0.],\n",
       "        [1., 0., 0., 0.],\n",
       "        [0., 1., 0., 0.],\n",
       "        ...,\n",
       "        [0., 1., 0., 0.],\n",
       "        [1., 0., 0., 0.],\n",
       "        [0., 1., 0., 0.]], dtype=float32))"
      ]
     },
     "execution_count": 16,
     "metadata": {},
     "output_type": "execute_result"
    }
   ],
   "source": [
    "(x_train, y_train)"
   ]
  },
  {
   "cell_type": "code",
   "execution_count": 17,
   "metadata": {},
   "outputs": [],
   "source": [
    "epoch=10\n",
    "weights = [1.0, 1.0, 1.0, 1.0]"
   ]
  },
  {
   "cell_type": "code",
   "execution_count": 18,
   "metadata": {},
   "outputs": [
    {
     "data": {
      "text/plain": [
       "(array([[0., 1., 0., 0.],\n",
       "        [1., 0., 0., 0.],\n",
       "        [0., 1., 0., 0.],\n",
       "        ...,\n",
       "        [0., 1., 0., 0.],\n",
       "        [1., 0., 0., 0.],\n",
       "        [0., 1., 0., 0.]], dtype=float32), array([[0., 0., 1., 0.],\n",
       "        [0., 1., 0., 0.],\n",
       "        [0., 0., 0., 1.],\n",
       "        ...,\n",
       "        [1., 0., 0., 0.],\n",
       "        [0., 1., 0., 0.],\n",
       "        [0., 1., 0., 0.]], dtype=float32))"
      ]
     },
     "execution_count": 18,
     "metadata": {},
     "output_type": "execute_result"
    }
   ],
   "source": [
    "(y_train, y_test)"
   ]
  },
  {
   "cell_type": "code",
   "execution_count": 19,
   "metadata": {},
   "outputs": [
    {
     "name": "stdout",
     "output_type": "stream",
     "text": [
      "Train on 16436 samples, validate on 2901 samples\n",
      "Epoch 1/10\n",
      "16436/16436 [==============================] - 4s 273us/sample - loss: 0.4241 - accuracy: 0.8554 - val_loss: 0.3135 - val_accuracy: 0.8918\n",
      "Epoch 2/10\n",
      "16436/16436 [==============================] - 4s 234us/sample - loss: 0.2647 - accuracy: 0.9142 - val_loss: 0.2348 - val_accuracy: 0.9252\n",
      "Epoch 3/10\n",
      "16436/16436 [==============================] - 4s 236us/sample - loss: 0.2300 - accuracy: 0.9258 - val_loss: 0.2182 - val_accuracy: 0.9300\n",
      "Epoch 4/10\n",
      "16436/16436 [==============================] - 4s 234us/sample - loss: 0.2178 - accuracy: 0.9306 - val_loss: 0.2084 - val_accuracy: 0.93423 - accuracy: 0.93\n",
      "Epoch 5/10\n",
      "16436/16436 [==============================] - 4s 236us/sample - loss: 0.2113 - accuracy: 0.9325 - val_loss: 0.2062 - val_accuracy: 0.9328\n",
      "Epoch 6/10\n",
      "16436/16436 [==============================] - 4s 240us/sample - loss: 0.2079 - accuracy: 0.9336 - val_loss: 0.2039 - val_accuracy: 0.9331\n",
      "Epoch 7/10\n",
      "16436/16436 [==============================] - 4s 237us/sample - loss: 0.2046 - accuracy: 0.9339 - val_loss: 0.1986 - val_accuracy: 0.9373\n",
      "Epoch 8/10\n",
      "16436/16436 [==============================] - 4s 236us/sample - loss: 0.2025 - accuracy: 0.9355 - val_loss: 0.1985 - val_accuracy: 0.9349\n",
      "Epoch 9/10\n",
      "16436/16436 [==============================] - 4s 249us/sample - loss: 0.1992 - accuracy: 0.9365 - val_loss: 0.1960 - val_accuracy: 0.9376\n",
      "Epoch 10/10\n",
      "16436/16436 [==============================] - 4s 233us/sample - loss: 0.1973 - accuracy: 0.9372 - val_loss: 0.1941 - val_accuracy: 0.9393\n"
     ]
    }
   ],
   "source": [
    "hist=model.fit(\n",
    "    x=x_train, \n",
    "    y=y_train, \n",
    "    epochs=epoch,\n",
    "    batch_size=4,\n",
    "    validation_data=(x_test, y_test),\n",
    "    shuffle=False\n",
    ")"
   ]
  },
  {
   "cell_type": "code",
   "execution_count": 20,
   "metadata": {},
   "outputs": [
    {
     "name": "stdout",
     "output_type": "stream",
     "text": [
      "Model: \"sequential\"\n",
      "_________________________________________________________________\n",
      "Layer (type)                 Output Shape              Param #   \n",
      "=================================================================\n",
      "dense (Dense)                (None, 30)                120       \n",
      "_________________________________________________________________\n",
      "dense_1 (Dense)              (None, 100)               3100      \n",
      "_________________________________________________________________\n",
      "dense_2 (Dense)              (None, 4)                 404       \n",
      "=================================================================\n",
      "Total params: 3,624\n",
      "Trainable params: 3,624\n",
      "Non-trainable params: 0\n",
      "_________________________________________________________________\n"
     ]
    }
   ],
   "source": [
    "model.summary()"
   ]
  },
  {
   "cell_type": "code",
   "execution_count": 21,
   "metadata": {},
   "outputs": [
    {
     "ename": "ValueError",
     "evalue": "Classification metrics can't handle a mix of multiclass and multilabel-indicator targets",
     "output_type": "error",
     "traceback": [
      "\u001b[1;31m---------------------------------------------------------------------------\u001b[0m",
      "\u001b[1;31mValueError\u001b[0m                                Traceback (most recent call last)",
      "\u001b[1;32m<ipython-input-21-4004e714c85a>\u001b[0m in \u001b[0;36m<module>\u001b[1;34m\u001b[0m\n\u001b[0;32m     29\u001b[0m \u001b[0my_pred\u001b[0m \u001b[1;33m=\u001b[0m \u001b[0mmodel\u001b[0m\u001b[1;33m.\u001b[0m\u001b[0mpredict_classes\u001b[0m\u001b[1;33m(\u001b[0m\u001b[0mx_train\u001b[0m\u001b[1;33m)\u001b[0m\u001b[1;33m\u001b[0m\u001b[1;33m\u001b[0m\u001b[0m\n\u001b[0;32m     30\u001b[0m \u001b[0mp\u001b[0m\u001b[1;33m=\u001b[0m\u001b[0mmodel\u001b[0m\u001b[1;33m.\u001b[0m\u001b[0mpredict_proba\u001b[0m\u001b[1;33m(\u001b[0m\u001b[0mx_train\u001b[0m\u001b[1;33m)\u001b[0m\u001b[1;33m\u001b[0m\u001b[1;33m\u001b[0m\u001b[0m\n\u001b[1;32m---> 31\u001b[1;33m \u001b[0mprint\u001b[0m\u001b[1;33m(\u001b[0m\u001b[0mclassification_report\u001b[0m\u001b[1;33m(\u001b[0m\u001b[0mnp\u001b[0m\u001b[1;33m.\u001b[0m\u001b[0margmax\u001b[0m\u001b[1;33m(\u001b[0m\u001b[0mx_train\u001b[0m\u001b[1;33m,\u001b[0m\u001b[0maxis\u001b[0m\u001b[1;33m=\u001b[0m\u001b[1;36m1\u001b[0m\u001b[1;33m)\u001b[0m\u001b[1;33m,\u001b[0m \u001b[0my_train\u001b[0m\u001b[1;33m,\u001b[0m\u001b[0mtarget_names\u001b[0m\u001b[1;33m=\u001b[0m\u001b[1;33m[\u001b[0m\u001b[1;34m'R'\u001b[0m\u001b[1;33m,\u001b[0m \u001b[1;34m'A'\u001b[0m\u001b[1;33m,\u001b[0m \u001b[1;34m'C'\u001b[0m\u001b[1;33m,\u001b[0m \u001b[1;34m'F'\u001b[0m\u001b[1;33m]\u001b[0m\u001b[1;33m)\u001b[0m\u001b[1;33m)\u001b[0m\u001b[1;33m\u001b[0m\u001b[1;33m\u001b[0m\u001b[0m\n\u001b[0m\u001b[0;32m     32\u001b[0m \u001b[0mprint\u001b[0m\u001b[1;33m(\u001b[0m\u001b[0mconfusion_matrix\u001b[0m\u001b[1;33m(\u001b[0m\u001b[0mnp\u001b[0m\u001b[1;33m.\u001b[0m\u001b[0margmax\u001b[0m\u001b[1;33m(\u001b[0m\u001b[0mx_train\u001b[0m\u001b[1;33m,\u001b[0m\u001b[0maxis\u001b[0m\u001b[1;33m=\u001b[0m\u001b[1;36m1\u001b[0m\u001b[1;33m)\u001b[0m\u001b[1;33m,\u001b[0m \u001b[0my_train\u001b[0m\u001b[1;33m)\u001b[0m\u001b[1;33m)\u001b[0m\u001b[1;33m\u001b[0m\u001b[1;33m\u001b[0m\u001b[0m\n\u001b[0;32m     33\u001b[0m \u001b[1;33m\u001b[0m\u001b[0m\n",
      "\u001b[1;32mc:\\program files\\python36\\lib\\site-packages\\sklearn\\metrics\\classification.py\u001b[0m in \u001b[0;36mclassification_report\u001b[1;34m(y_true, y_pred, labels, target_names, sample_weight, digits, output_dict)\u001b[0m\n\u001b[0;32m   1522\u001b[0m     \"\"\"\n\u001b[0;32m   1523\u001b[0m \u001b[1;33m\u001b[0m\u001b[0m\n\u001b[1;32m-> 1524\u001b[1;33m     \u001b[0my_type\u001b[0m\u001b[1;33m,\u001b[0m \u001b[0my_true\u001b[0m\u001b[1;33m,\u001b[0m \u001b[0my_pred\u001b[0m \u001b[1;33m=\u001b[0m \u001b[0m_check_targets\u001b[0m\u001b[1;33m(\u001b[0m\u001b[0my_true\u001b[0m\u001b[1;33m,\u001b[0m \u001b[0my_pred\u001b[0m\u001b[1;33m)\u001b[0m\u001b[1;33m\u001b[0m\u001b[1;33m\u001b[0m\u001b[0m\n\u001b[0m\u001b[0;32m   1525\u001b[0m \u001b[1;33m\u001b[0m\u001b[0m\n\u001b[0;32m   1526\u001b[0m     \u001b[0mlabels_given\u001b[0m \u001b[1;33m=\u001b[0m \u001b[1;32mTrue\u001b[0m\u001b[1;33m\u001b[0m\u001b[1;33m\u001b[0m\u001b[0m\n",
      "\u001b[1;32mc:\\program files\\python36\\lib\\site-packages\\sklearn\\metrics\\classification.py\u001b[0m in \u001b[0;36m_check_targets\u001b[1;34m(y_true, y_pred)\u001b[0m\n\u001b[0;32m     79\u001b[0m     \u001b[1;32mif\u001b[0m \u001b[0mlen\u001b[0m\u001b[1;33m(\u001b[0m\u001b[0my_type\u001b[0m\u001b[1;33m)\u001b[0m \u001b[1;33m>\u001b[0m \u001b[1;36m1\u001b[0m\u001b[1;33m:\u001b[0m\u001b[1;33m\u001b[0m\u001b[1;33m\u001b[0m\u001b[0m\n\u001b[0;32m     80\u001b[0m         raise ValueError(\"Classification metrics can't handle a mix of {0} \"\n\u001b[1;32m---> 81\u001b[1;33m                          \"and {1} targets\".format(type_true, type_pred))\n\u001b[0m\u001b[0;32m     82\u001b[0m \u001b[1;33m\u001b[0m\u001b[0m\n\u001b[0;32m     83\u001b[0m     \u001b[1;31m# We can't have more than one value on y_type => The set is no more needed\u001b[0m\u001b[1;33m\u001b[0m\u001b[1;33m\u001b[0m\u001b[1;33m\u001b[0m\u001b[0m\n",
      "\u001b[1;31mValueError\u001b[0m: Classification metrics can't handle a mix of multiclass and multilabel-indicator targets"
     ]
    },
    {
     "data": {
      "image/png": "[encoded data removed]",
      "text/plain": [
       "<Figure size 504x360 with 1 Axes>"
      ]
     },
     "metadata": {
      "needs_background": "light"
     },
     "output_type": "display_data"
    },
    {
     "data": {
      "image/png": "[encoded data removed]",
      "text/plain": [
       "<Figure size 560x400 with 1 Axes>"
      ]
     },
     "metadata": {},
     "output_type": "display_data"
    }
   ],
   "source": [
    "#Some graphics statistics\n",
    "train_loss=hist.history['loss']\n",
    "val_loss=hist.history['val_loss']\n",
    "train_acc=hist.history['accuracy']\n",
    "val_acc=hist.history['val_accuracy']\n",
    "xc=range(epoch)\n",
    "\n",
    "plt.figure(1,figsize=(7,5))\n",
    "plt.plot(xc,train_loss)\t\n",
    "plt.plot(xc,val_loss)\n",
    "plt.xlabel('num of Epochs')\n",
    "plt.ylabel('loss')\n",
    "plt.title('train_loss vs val_loss')\n",
    "plt.grid(True)\n",
    "plt.legend(['train','val'])\n",
    "plt.style.use(['classic'])\n",
    "\n",
    "plt.figure(2,figsize=(7,5))\n",
    "plt.plot(xc,train_acc)\n",
    "plt.plot(xc,val_acc)\n",
    "plt.xlabel('num of Epochs')\n",
    "plt.ylabel('accuracy')\n",
    "plt.title('train_acc vs val_acc')\n",
    "plt.grid(True)\n",
    "plt.legend(['train','val'],loc=4)\n",
    "plt.style.use(['classic'])\n",
    "\n",
    "#Matriz confusion todo\n",
    "y_pred = model.predict_classes(x_train)\n",
    "p=model.predict_proba(x_train)\n",
    "print(classification_report(np.argmax(x_train,axis=1), y_train,target_names=['R', 'A', 'C', 'F']))\n",
    "print(confusion_matrix(np.argmax(x_train,axis=1), y_train))\n",
    "\n",
    "#Matriz de confusion test\n",
    "y_pred = model.predict_classes(x_test)\n",
    "p=model.predict_proba(x_test) # to predict probability\n",
    "print(classification_report(np.argmax(x_test,axis=1), y_test,target_names=['R', 'A', 'C', 'F']))\n",
    "print(confusion_matrix(np.argmax(x_test,axis=1), y_test))\n",
    "\n",
    "plt.show()"
   ]
  },
  {
   "cell_type": "code",
   "execution_count": null,
   "metadata": {},
   "outputs": [],
   "source": []
  }
 ],
 "metadata": {
  "kernelspec": {
   "display_name": "Python 3",
   "language": "python",
   "name": "python3"
  },
  "language_info": {
   "codemirror_mode": {
    "name": "ipython",
    "version": 3
   },
   "file_extension": ".py",
   "mimetype": "text/x-python",
   "name": "python",
   "nbconvert_exporter": "python",
   "pygments_lexer": "ipython3",
   "version": "3.6.8"
  }
 },
 "nbformat": 4,
 "nbformat_minor": 2
}
